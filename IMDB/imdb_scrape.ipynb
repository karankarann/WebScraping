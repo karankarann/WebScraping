{
 "cells": [
  {
   "cell_type": "code",
   "execution_count": 1,
   "metadata": {},
   "outputs": [],
   "source": [
    "import pandas as pd\n",
    "from bs4 import BeautifulSoup\n",
    "import requests"
   ]
  },
  {
   "cell_type": "code",
   "execution_count": 2,
   "metadata": {},
   "outputs": [],
   "source": [
    "url = 'https://www.imdb.com/chart/moviemeter/'\n",
    "headers = {\"user-agent\": \"Mozilla/5.0 (Windows NT 10.0; Win64; x64) AppleWebKit/537.36 (KHTML, like Gecko) Chrome/88.0.4324.182 Safari/537.36\"}"
   ]
  },
  {
   "cell_type": "code",
   "execution_count": 34,
   "metadata": {},
   "outputs": [],
   "source": [
    "page = requests.get(url, headers=headers)\n",
    "\n",
    "soup = BeautifulSoup(page.text, 'html.parser')"
   ]
  },
  {
   "cell_type": "code",
   "execution_count": 33,
   "metadata": {},
   "outputs": [],
   "source": [
    "# print(soup)"
   ]
  },
  {
   "cell_type": "code",
   "execution_count": 39,
   "metadata": {},
   "outputs": [],
   "source": [
    "ranking = soup.find_all('div', class_ =\"sc-b8b74125-0 ilwIpP meter-const-ranking sc-b189961a-6 bIKcLq cli-meter-title-header\")"
   ]
  },
  {
   "cell_type": "code",
   "execution_count": 55,
   "metadata": {},
   "outputs": [],
   "source": [
    "ranking_list=[]\n",
    "for r in ranking:\n",
    "    ranking_list.append(r.text.split()[0])\n",
    "    # print(r.text.split()[0])"
   ]
  },
  {
   "cell_type": "code",
   "execution_count": 56,
   "metadata": {},
   "outputs": [
    {
     "data": {
      "text/plain": [
       "25"
      ]
     },
     "execution_count": 56,
     "metadata": {},
     "output_type": "execute_result"
    }
   ],
   "source": [
    "len(ranking_list)"
   ]
  },
  {
   "cell_type": "code",
   "execution_count": 46,
   "metadata": {},
   "outputs": [],
   "source": [
    "images = soup.find_all('img', class_ =\"ipc-image\")"
   ]
  },
  {
   "cell_type": "code",
   "execution_count": 61,
   "metadata": {},
   "outputs": [
    {
     "data": {
      "text/plain": [
       "<img alt=\"Get the IMDb app\" class=\"ipc-image\" loading=\"lazy\" sizes=\"25vw, (min-width: 480px) 17vw, (min-width: 600px) 13vw, (min-width: 1024px) 8vw, (min-width: 1280px) 8vw\" src=\"https://m.media-amazon.com/images/G/01/IMDb/Mobile/DesktopQRCode-png.png\" srcset=\"https://m.media-amazon.com/images/G/01/IMDb/Mobile/DesktopQRCode-png.png 58w, https://m.media-amazon.com/images/G/01/IMDb/Mobile/DesktopQRCode-png.png 87w, https://m.media-amazon.com/images/G/01/IMDb/Mobile/DesktopQRCode-png.png 116w\" width=\"58\"/>"
      ]
     },
     "execution_count": 61,
     "metadata": {},
     "output_type": "execute_result"
    }
   ],
   "source": [
    "## Dropping teh download QR code\n",
    "images.pop()"
   ]
  },
  {
   "cell_type": "code",
   "execution_count": 67,
   "metadata": {},
   "outputs": [
    {
     "data": {
      "text/plain": [
       "25"
      ]
     },
     "execution_count": 67,
     "metadata": {},
     "output_type": "execute_result"
    }
   ],
   "source": [
    "len(images)"
   ]
  },
  {
   "cell_type": "code",
   "execution_count": 68,
   "metadata": {},
   "outputs": [],
   "source": [
    "src_list=[]\n",
    "for image in images:\n",
    "    src_list.append(image.get('src'))\n",
    "    # print(image.get('src'))"
   ]
  },
  {
   "cell_type": "code",
   "execution_count": 69,
   "metadata": {},
   "outputs": [
    {
     "data": {
      "text/plain": [
       "25"
      ]
     },
     "execution_count": 69,
     "metadata": {},
     "output_type": "execute_result"
    }
   ],
   "source": [
    "len(src_list)"
   ]
  },
  {
   "cell_type": "code",
   "execution_count": 100,
   "metadata": {},
   "outputs": [],
   "source": [
    "movie_names = soup.find_all('h3', class_ = \"ipc-title__text\")"
   ]
  },
  {
   "cell_type": "code",
   "execution_count": 101,
   "metadata": {},
   "outputs": [
    {
     "data": {
      "text/plain": [
       "<h3 class=\"ipc-title__text\">IMDb Charts</h3>"
      ]
     },
     "execution_count": 101,
     "metadata": {},
     "output_type": "execute_result"
    }
   ],
   "source": [
    "movie_names.pop()\n",
    "movie_names.pop(0)"
   ]
  },
  {
   "cell_type": "code",
   "execution_count": 102,
   "metadata": {},
   "outputs": [
    {
     "data": {
      "text/plain": [
       "25"
      ]
     },
     "execution_count": 102,
     "metadata": {},
     "output_type": "execute_result"
    }
   ],
   "source": [
    "len(movie_names)"
   ]
  },
  {
   "cell_type": "code",
   "execution_count": 103,
   "metadata": {},
   "outputs": [
    {
     "name": "stdout",
     "output_type": "stream",
     "text": [
      "[<h3 class=\"ipc-title__text\">Alien: Romulus</h3>, <h3 class=\"ipc-title__text\">Deadpool &amp; Wolverine</h3>, <h3 class=\"ipc-title__text\">The Union</h3>, <h3 class=\"ipc-title__text\">It Ends with Us</h3>, <h3 class=\"ipc-title__text\">Furiosa: A Mad Max Saga</h3>, <h3 class=\"ipc-title__text\">Twisters</h3>, <h3 class=\"ipc-title__text\">The Crow</h3>, <h3 class=\"ipc-title__text\">Blink Twice</h3>, <h3 class=\"ipc-title__text\">Jackpot!</h3>, <h3 class=\"ipc-title__text\">Longlegs</h3>, <h3 class=\"ipc-title__text\">Stree 2</h3>, <h3 class=\"ipc-title__text\">Y2K</h3>, <h3 class=\"ipc-title__text\">Alien</h3>, <h3 class=\"ipc-title__text\">Borderlands</h3>, <h3 class=\"ipc-title__text\">Beetlejuice 2</h3>, <h3 class=\"ipc-title__text\">Inside Out 2</h3>, <h3 class=\"ipc-title__text\">Alien: Covenant</h3>, <h3 class=\"ipc-title__text\">Trap</h3>, <h3 class=\"ipc-title__text\">The Instigators</h3>, <h3 class=\"ipc-title__text\">Prometheus</h3>, <h3 class=\"ipc-title__text\">Oddity</h3>, <h3 class=\"ipc-title__text\">Kingdom of the Planet of the Apes</h3>, <h3 class=\"ipc-title__text\">Aliens</h3>, <h3 class=\"ipc-title__text\">The Ministry of Ungentlemanly Warfare</h3>, <h3 class=\"ipc-title__text\">Horizon: An American Saga - Chapter 1</h3>]\n"
     ]
    }
   ],
   "source": [
    "print(movie_names)"
   ]
  },
  {
   "cell_type": "code",
   "execution_count": 104,
   "metadata": {},
   "outputs": [
    {
     "name": "stdout",
     "output_type": "stream",
     "text": [
      "Alien: Romulus\n",
      "Deadpool & Wolverine\n",
      "The Union\n",
      "It Ends with Us\n",
      "Furiosa: A Mad Max Saga\n",
      "Twisters\n",
      "The Crow\n",
      "Blink Twice\n",
      "Jackpot!\n",
      "Longlegs\n",
      "Stree 2\n",
      "Y2K\n",
      "Alien\n",
      "Borderlands\n",
      "Beetlejuice 2\n",
      "Inside Out 2\n",
      "Alien: Covenant\n",
      "Trap\n",
      "The Instigators\n",
      "Prometheus\n",
      "Oddity\n",
      "Kingdom of the Planet of the Apes\n",
      "Aliens\n",
      "The Ministry of Ungentlemanly Warfare\n",
      "Horizon: An American Saga - Chapter 1\n"
     ]
    }
   ],
   "source": [
    "names=[]\n",
    "for movie in movie_names:\n",
    "    names.append(movie.text)\n",
    "    print(movie.text)"
   ]
  },
  {
   "cell_type": "code",
   "execution_count": 105,
   "metadata": {},
   "outputs": [
    {
     "data": {
      "text/plain": [
       "25"
      ]
     },
     "execution_count": 105,
     "metadata": {},
     "output_type": "execute_result"
    }
   ],
   "source": [
    "len(movie_names)"
   ]
  },
  {
   "cell_type": "code",
   "execution_count": 109,
   "metadata": {},
   "outputs": [],
   "source": [
    "info_released = soup.find_all('span', class_ = 'sc-b189961a-8 hCbzGp cli-title-metadata-item')"
   ]
  },
  {
   "cell_type": "code",
   "execution_count": 118,
   "metadata": {},
   "outputs": [
    {
     "data": {
      "text/plain": [
       "[<span class=\"sc-b189961a-8 hCbzGp cli-title-metadata-item\">2024</span>,\n",
       " <span class=\"sc-b189961a-8 hCbzGp cli-title-metadata-item\">1h 59m</span>,\n",
       " <span class=\"sc-b189961a-8 hCbzGp cli-title-metadata-item\">14A</span>,\n",
       " <span class=\"sc-b189961a-8 hCbzGp cli-title-metadata-item\">2024</span>,\n",
       " <span class=\"sc-b189961a-8 hCbzGp cli-title-metadata-item\">2h 8m</span>,\n",
       " <span class=\"sc-b189961a-8 hCbzGp cli-title-metadata-item\">14A</span>,\n",
       " <span class=\"sc-b189961a-8 hCbzGp cli-title-metadata-item\">2024</span>,\n",
       " <span class=\"sc-b189961a-8 hCbzGp cli-title-metadata-item\">1h 47m</span>,\n",
       " <span class=\"sc-b189961a-8 hCbzGp cli-title-metadata-item\">PG-13</span>,\n",
       " <span class=\"sc-b189961a-8 hCbzGp cli-title-metadata-item\">2024</span>,\n",
       " <span class=\"sc-b189961a-8 hCbzGp cli-title-metadata-item\">2h 10m</span>,\n",
       " <span class=\"sc-b189961a-8 hCbzGp cli-title-metadata-item\">PG</span>,\n",
       " <span class=\"sc-b189961a-8 hCbzGp cli-title-metadata-item\">2024</span>,\n",
       " <span class=\"sc-b189961a-8 hCbzGp cli-title-metadata-item\">2h 28m</span>,\n",
       " <span class=\"sc-b189961a-8 hCbzGp cli-title-metadata-item\">14A</span>,\n",
       " <span class=\"sc-b189961a-8 hCbzGp cli-title-metadata-item\">2024</span>,\n",
       " <span class=\"sc-b189961a-8 hCbzGp cli-title-metadata-item\">2h 2m</span>,\n",
       " <span class=\"sc-b189961a-8 hCbzGp cli-title-metadata-item\">PG</span>,\n",
       " <span class=\"sc-b189961a-8 hCbzGp cli-title-metadata-item\">2024</span>,\n",
       " <span class=\"sc-b189961a-8 hCbzGp cli-title-metadata-item\">1h 51m</span>,\n",
       " <span class=\"sc-b189961a-8 hCbzGp cli-title-metadata-item\">14A</span>,\n",
       " <span class=\"sc-b189961a-8 hCbzGp cli-title-metadata-item\">2024</span>,\n",
       " <span class=\"sc-b189961a-8 hCbzGp cli-title-metadata-item\">1h 42m</span>,\n",
       " <span class=\"sc-b189961a-8 hCbzGp cli-title-metadata-item\">14A</span>,\n",
       " <span class=\"sc-b189961a-8 hCbzGp cli-title-metadata-item\">2024</span>,\n",
       " <span class=\"sc-b189961a-8 hCbzGp cli-title-metadata-item\">1h 46m</span>,\n",
       " <span class=\"sc-b189961a-8 hCbzGp cli-title-metadata-item\">R</span>,\n",
       " <span class=\"sc-b189961a-8 hCbzGp cli-title-metadata-item\">2024</span>,\n",
       " <span class=\"sc-b189961a-8 hCbzGp cli-title-metadata-item\">1h 41m</span>,\n",
       " <span class=\"sc-b189961a-8 hCbzGp cli-title-metadata-item\">14A</span>,\n",
       " <span class=\"sc-b189961a-8 hCbzGp cli-title-metadata-item\">2024</span>,\n",
       " <span class=\"sc-b189961a-8 hCbzGp cli-title-metadata-item\">2h 27m</span>,\n",
       " <span class=\"sc-b189961a-8 hCbzGp cli-title-metadata-item\">14A</span>,\n",
       " <span class=\"sc-b189961a-8 hCbzGp cli-title-metadata-item\">2024</span>,\n",
       " <span class=\"sc-b189961a-8 hCbzGp cli-title-metadata-item\">1h 33m</span>,\n",
       " <span class=\"sc-b189961a-8 hCbzGp cli-title-metadata-item\">R</span>,\n",
       " <span class=\"sc-b189961a-8 hCbzGp cli-title-metadata-item\">1979</span>,\n",
       " <span class=\"sc-b189961a-8 hCbzGp cli-title-metadata-item\">1h 57m</span>,\n",
       " <span class=\"sc-b189961a-8 hCbzGp cli-title-metadata-item\">R</span>,\n",
       " <span class=\"sc-b189961a-8 hCbzGp cli-title-metadata-item\">2024</span>,\n",
       " <span class=\"sc-b189961a-8 hCbzGp cli-title-metadata-item\">1h 41m</span>,\n",
       " <span class=\"sc-b189961a-8 hCbzGp cli-title-metadata-item\">PG</span>,\n",
       " <span class=\"sc-b189961a-8 hCbzGp cli-title-metadata-item\">2024</span>,\n",
       " <span class=\"sc-b189961a-8 hCbzGp cli-title-metadata-item\">1h 44m</span>,\n",
       " <span class=\"sc-b189961a-8 hCbzGp cli-title-metadata-item\">14A</span>,\n",
       " <span class=\"sc-b189961a-8 hCbzGp cli-title-metadata-item\">2024</span>,\n",
       " <span class=\"sc-b189961a-8 hCbzGp cli-title-metadata-item\">1h 36m</span>,\n",
       " <span class=\"sc-b189961a-8 hCbzGp cli-title-metadata-item\">G</span>,\n",
       " <span class=\"sc-b189961a-8 hCbzGp cli-title-metadata-item\">2017</span>,\n",
       " <span class=\"sc-b189961a-8 hCbzGp cli-title-metadata-item\">2h 2m</span>,\n",
       " <span class=\"sc-b189961a-8 hCbzGp cli-title-metadata-item\">14A</span>,\n",
       " <span class=\"sc-b189961a-8 hCbzGp cli-title-metadata-item\">2024</span>,\n",
       " <span class=\"sc-b189961a-8 hCbzGp cli-title-metadata-item\">1h 45m</span>,\n",
       " <span class=\"sc-b189961a-8 hCbzGp cli-title-metadata-item\">PG</span>,\n",
       " <span class=\"sc-b189961a-8 hCbzGp cli-title-metadata-item\">2024</span>,\n",
       " <span class=\"sc-b189961a-8 hCbzGp cli-title-metadata-item\">1h 41m</span>,\n",
       " <span class=\"sc-b189961a-8 hCbzGp cli-title-metadata-item\">14A</span>,\n",
       " <span class=\"sc-b189961a-8 hCbzGp cli-title-metadata-item\">2012</span>,\n",
       " <span class=\"sc-b189961a-8 hCbzGp cli-title-metadata-item\">2h 4m</span>,\n",
       " <span class=\"sc-b189961a-8 hCbzGp cli-title-metadata-item\">14A</span>,\n",
       " <span class=\"sc-b189961a-8 hCbzGp cli-title-metadata-item\">2024</span>,\n",
       " <span class=\"sc-b189961a-8 hCbzGp cli-title-metadata-item\">1h 38m</span>,\n",
       " <span class=\"sc-b189961a-8 hCbzGp cli-title-metadata-item\">14A</span>,\n",
       " <span class=\"sc-b189961a-8 hCbzGp cli-title-metadata-item\">2024</span>,\n",
       " <span class=\"sc-b189961a-8 hCbzGp cli-title-metadata-item\">2h 25m</span>,\n",
       " <span class=\"sc-b189961a-8 hCbzGp cli-title-metadata-item\">PG</span>,\n",
       " <span class=\"sc-b189961a-8 hCbzGp cli-title-metadata-item\">1986</span>,\n",
       " <span class=\"sc-b189961a-8 hCbzGp cli-title-metadata-item\">2h 17m</span>,\n",
       " <span class=\"sc-b189961a-8 hCbzGp cli-title-metadata-item\">R</span>,\n",
       " <span class=\"sc-b189961a-8 hCbzGp cli-title-metadata-item\">2024</span>,\n",
       " <span class=\"sc-b189961a-8 hCbzGp cli-title-metadata-item\">2h 2m</span>,\n",
       " <span class=\"sc-b189961a-8 hCbzGp cli-title-metadata-item\">R</span>,\n",
       " <span class=\"sc-b189961a-8 hCbzGp cli-title-metadata-item\">2024</span>,\n",
       " <span class=\"sc-b189961a-8 hCbzGp cli-title-metadata-item\">3h 1m</span>,\n",
       " <span class=\"sc-b189961a-8 hCbzGp cli-title-metadata-item\">14A</span>]"
      ]
     },
     "execution_count": 118,
     "metadata": {},
     "output_type": "execute_result"
    }
   ],
   "source": [
    "year_released"
   ]
  },
  {
   "cell_type": "code",
   "execution_count": 128,
   "metadata": {},
   "outputs": [],
   "source": [
    "year_released_list=[]\n",
    "duration_list =[]\n",
    "age_rating_list =[]\n",
    "i=0\n",
    "while i < int(len(info_released)):\n",
    "    # print(\"year \", info_released[i].text)\n",
    "    year_released_list.append(info_released[i].text)\n",
    "    i+=1\n",
    "    # print(\"durarion\", info_released[i].text)\n",
    "    duration_list.append(info_released[i+1].text)\n",
    "    i+=1\n",
    "    # print(\"rating\", info_released[i].text)\n",
    "    age_rating_list.append(info_released[i].text)\n",
    "    i+=1"
   ]
  },
  {
   "cell_type": "code",
   "execution_count": 135,
   "metadata": {},
   "outputs": [],
   "source": [
    "ratings = soup.find_all('span', class_ =\"ipc-rating-star ipc-rating-star--base ipc-rating-star--imdb ratingGroup--imdb-rating\")"
   ]
  },
  {
   "cell_type": "code",
   "execution_count": 148,
   "metadata": {},
   "outputs": [],
   "source": [
    "# sc-e2dbc1a3-0 jeHPdh sc-b189961a-2 bglYHz cli-ratings-container"
   ]
  },
  {
   "cell_type": "code",
   "execution_count": 147,
   "metadata": {},
   "outputs": [],
   "source": [
    "# problem is some of the movies are not rated, how do i fix them? "
   ]
  },
  {
   "cell_type": "code",
   "execution_count": 144,
   "metadata": {},
   "outputs": [],
   "source": [
    "imdb_rating_list=[]\n",
    "rating_vote_count=[]\n",
    "for r in ratings:\n",
    "    imdb_rating_list.append(r.text.split()[0])\n",
    "    rating_vote_count.append(r.text.split()[1])\n",
    "    # print(r.text.split()[1])"
   ]
  },
  {
   "cell_type": "code",
   "execution_count": 146,
   "metadata": {},
   "outputs": [
    {
     "data": {
      "text/plain": [
       "23"
      ]
     },
     "execution_count": 146,
     "metadata": {},
     "output_type": "execute_result"
    }
   ],
   "source": [
    "len(rating_vote_count)"
   ]
  }
 ],
 "metadata": {
  "kernelspec": {
   "display_name": "venv",
   "language": "python",
   "name": "python3"
  },
  "language_info": {
   "codemirror_mode": {
    "name": "ipython",
    "version": 3
   },
   "file_extension": ".py",
   "mimetype": "text/x-python",
   "name": "python",
   "nbconvert_exporter": "python",
   "pygments_lexer": "ipython3",
   "version": "3.11.5"
  }
 },
 "nbformat": 4,
 "nbformat_minor": 2
}
